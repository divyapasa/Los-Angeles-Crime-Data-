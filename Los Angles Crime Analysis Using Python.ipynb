{
 "cells": [
  {
   "cell_type": "code",
   "execution_count": 81,
   "metadata": {},
   "outputs": [
    {
     "name": "stdout",
     "output_type": "stream",
     "text": [
      "       DR_NO       Date Rptd        DATE OCC  TIME OCC  AREA    AREA NAME  \\\n",
      "0   10304468   1/8/2020 0:00   1/8/2020 0:00      2230     3    Southwest   \n",
      "1  190101086   1/2/2020 0:00   1/1/2020 0:00       330     1      Central   \n",
      "2  200110444  4/14/2020 0:00  2/13/2020 0:00      1200     1      Central   \n",
      "3  191501505   1/1/2020 0:00   1/1/2020 0:00      1730    15  N Hollywood   \n",
      "4  191921269   1/1/2020 0:00   1/1/2020 0:00       415    19      Mission   \n",
      "\n",
      "   Rpt Dist No  Part 1-2  Crm Cd  \\\n",
      "0          377         2     624   \n",
      "1          163         2     624   \n",
      "2          155         2     845   \n",
      "3         1543         2     745   \n",
      "4         1998         2     740   \n",
      "\n",
      "                                         Crm Cd Desc  ... Status  \\\n",
      "0                           BATTERY - SIMPLE ASSAULT  ...     AO   \n",
      "1                           BATTERY - SIMPLE ASSAULT  ...     IC   \n",
      "2          SEX OFFENDER REGISTRANT OUT OF COMPLIANCE  ...     AA   \n",
      "3           VANDALISM - MISDEAMEANOR ($399 OR UNDER)  ...     IC   \n",
      "4  VANDALISM - FELONY ($400 & OVER, ALL CHURCH VA...  ...     IC   \n",
      "\n",
      "    Status Desc Crm Cd 1 Crm Cd 2  Crm Cd 3 Crm Cd 4  \\\n",
      "0   Adult Other    624.0      NaN       NaN      NaN   \n",
      "1   Invest Cont    624.0      NaN       NaN      NaN   \n",
      "2  Adult Arrest    845.0      NaN       NaN      NaN   \n",
      "3   Invest Cont    745.0    998.0       NaN      NaN   \n",
      "4   Invest Cont    740.0      NaN       NaN      NaN   \n",
      "\n",
      "                                   LOCATION Cross Street      LAT       LON  \n",
      "0   1100 W  39TH                         PL          NaN  34.0141 -118.2978  \n",
      "1    700 S  HILL                         ST          NaN  34.0459 -118.2545  \n",
      "2    200 E  6TH                          ST          NaN  34.0448 -118.2474  \n",
      "3   5400    CORTEEN                      PL          NaN  34.1685 -118.4019  \n",
      "4  14400    TITUS                        ST          NaN  34.2198 -118.4468  \n",
      "\n",
      "[5 rows x 28 columns]\n"
     ]
    }
   ],
   "source": [
    "# Importing the required libraries for analysis\n",
    "# Read the data into a pandas dataframe\n",
    "\n",
    "import pandas as pd\n",
    "import numpy as np\n",
    "import matplotlib.pyplot as plt\n",
    "import seaborn as sns\n",
    "import math\n",
    "from datetime import timedelta\n",
    "\n",
    "\n",
    "df = pd.read_csv(r\"C:\\Users\\divya\\Downloads\\Los Angeles Crime Dataset\\Crime_Data_from_2020_to_Present.csv\")\n",
    "print(df.head())"
   ]
  },
  {
   "cell_type": "code",
   "execution_count": 82,
   "metadata": {},
   "outputs": [
    {
     "name": "stdout",
     "output_type": "stream",
     "text": [
      "DR_NO                  0\n",
      "Date Rptd              0\n",
      "DATE OCC               0\n",
      "TIME OCC               0\n",
      "AREA                   0\n",
      "AREA NAME              0\n",
      "Rpt Dist No            0\n",
      "Part 1-2               0\n",
      "Crm Cd                 0\n",
      "Crm Cd Desc            0\n",
      "Mocodes            82369\n",
      "Vict Age               0\n",
      "Vict Sex           78682\n",
      "Vict Descent       78687\n",
      "Premis Cd              6\n",
      "Premis Desc          273\n",
      "Weapon Used Cd    383954\n",
      "Weapon Desc       383954\n",
      "Status                 0\n",
      "Status Desc            0\n",
      "Crm Cd 1               6\n",
      "Crm Cd 2          549530\n",
      "Crm Cd 3          593447\n",
      "Crm Cd 4          594933\n",
      "LOCATION               0\n",
      "Cross Street      495092\n",
      "LAT                    0\n",
      "LON                    0\n",
      "dtype: int64\n"
     ]
    }
   ],
   "source": [
    "#To display which feature contains how many null values\n",
    "\n",
    "print(df.isnull().sum())"
   ]
  },
  {
   "cell_type": "code",
   "execution_count": 4,
   "metadata": {},
   "outputs": [
    {
     "name": "stdout",
     "output_type": "stream",
     "text": [
      "<class 'pandas.core.frame.DataFrame'>\n",
      "RangeIndex: 594977 entries, 0 to 594976\n",
      "Data columns (total 28 columns):\n",
      " #   Column          Non-Null Count   Dtype  \n",
      "---  ------          --------------   -----  \n",
      " 0   DR_NO           594977 non-null  int64  \n",
      " 1   Date Rptd       594977 non-null  object \n",
      " 2   DATE OCC        594977 non-null  object \n",
      " 3   TIME OCC        594977 non-null  int64  \n",
      " 4   AREA            594977 non-null  int64  \n",
      " 5   AREA NAME       594977 non-null  object \n",
      " 6   Rpt Dist No     594977 non-null  int64  \n",
      " 7   Part 1-2        594977 non-null  int64  \n",
      " 8   Crm Cd          594977 non-null  int64  \n",
      " 9   Crm Cd Desc     594977 non-null  object \n",
      " 10  Mocodes         512608 non-null  object \n",
      " 11  Vict Age        594977 non-null  int64  \n",
      " 12  Vict Sex        516295 non-null  object \n",
      " 13  Vict Descent    516290 non-null  object \n",
      " 14  Premis Cd       594971 non-null  float64\n",
      " 15  Premis Desc     594704 non-null  object \n",
      " 16  Weapon Used Cd  211023 non-null  float64\n",
      " 17  Weapon Desc     211023 non-null  object \n",
      " 18  Status          594977 non-null  object \n",
      " 19  Status Desc     594977 non-null  object \n",
      " 20  Crm Cd 1        594971 non-null  float64\n",
      " 21  Crm Cd 2        45447 non-null   float64\n",
      " 22  Crm Cd 3        1530 non-null    float64\n",
      " 23  Crm Cd 4        44 non-null      float64\n",
      " 24  LOCATION        594977 non-null  object \n",
      " 25  Cross Street    99885 non-null   object \n",
      " 26  LAT             594977 non-null  float64\n",
      " 27  LON             594977 non-null  float64\n",
      "dtypes: float64(8), int64(7), object(13)\n",
      "memory usage: 127.1+ MB\n"
     ]
    }
   ],
   "source": [
    "# Prints the information about the dataframe\n",
    "df.info()"
   ]
  },
  {
   "cell_type": "code",
   "execution_count": 5,
   "metadata": {},
   "outputs": [
    {
     "data": {
      "text/html": [
       "<div>\n",
       "<style scoped>\n",
       "    .dataframe tbody tr th:only-of-type {\n",
       "        vertical-align: middle;\n",
       "    }\n",
       "\n",
       "    .dataframe tbody tr th {\n",
       "        vertical-align: top;\n",
       "    }\n",
       "\n",
       "    .dataframe thead th {\n",
       "        text-align: right;\n",
       "    }\n",
       "</style>\n",
       "<table border=\"1\" class=\"dataframe\">\n",
       "  <thead>\n",
       "    <tr style=\"text-align: right;\">\n",
       "      <th></th>\n",
       "      <th>DR_NO</th>\n",
       "      <th>Date Rptd</th>\n",
       "      <th>DATE OCC</th>\n",
       "      <th>TIME OCC</th>\n",
       "      <th>AREA</th>\n",
       "      <th>AREA NAME</th>\n",
       "      <th>Rpt Dist No</th>\n",
       "      <th>Part 1-2</th>\n",
       "      <th>Crm Cd</th>\n",
       "      <th>Crm Cd Desc</th>\n",
       "      <th>...</th>\n",
       "      <th>Status</th>\n",
       "      <th>Status Desc</th>\n",
       "      <th>Crm Cd 1</th>\n",
       "      <th>Crm Cd 2</th>\n",
       "      <th>Crm Cd 3</th>\n",
       "      <th>Crm Cd 4</th>\n",
       "      <th>LOCATION</th>\n",
       "      <th>Cross Street</th>\n",
       "      <th>LAT</th>\n",
       "      <th>LON</th>\n",
       "    </tr>\n",
       "  </thead>\n",
       "  <tbody>\n",
       "    <tr>\n",
       "      <th>0</th>\n",
       "      <td>10304468</td>\n",
       "      <td>1/8/2020 0:00</td>\n",
       "      <td>1/8/2020 0:00</td>\n",
       "      <td>2230</td>\n",
       "      <td>3</td>\n",
       "      <td>Southwest</td>\n",
       "      <td>377</td>\n",
       "      <td>2</td>\n",
       "      <td>624</td>\n",
       "      <td>BATTERY - SIMPLE ASSAULT</td>\n",
       "      <td>...</td>\n",
       "      <td>AO</td>\n",
       "      <td>Adult Other</td>\n",
       "      <td>624.0</td>\n",
       "      <td>NaN</td>\n",
       "      <td>NaN</td>\n",
       "      <td>NaN</td>\n",
       "      <td>1100 W  39TH                         PL</td>\n",
       "      <td>NaN</td>\n",
       "      <td>34.0141</td>\n",
       "      <td>-118.2978</td>\n",
       "    </tr>\n",
       "    <tr>\n",
       "      <th>1</th>\n",
       "      <td>190101086</td>\n",
       "      <td>1/2/2020 0:00</td>\n",
       "      <td>1/1/2020 0:00</td>\n",
       "      <td>330</td>\n",
       "      <td>1</td>\n",
       "      <td>Central</td>\n",
       "      <td>163</td>\n",
       "      <td>2</td>\n",
       "      <td>624</td>\n",
       "      <td>BATTERY - SIMPLE ASSAULT</td>\n",
       "      <td>...</td>\n",
       "      <td>IC</td>\n",
       "      <td>Invest Cont</td>\n",
       "      <td>624.0</td>\n",
       "      <td>NaN</td>\n",
       "      <td>NaN</td>\n",
       "      <td>NaN</td>\n",
       "      <td>700 S  HILL                         ST</td>\n",
       "      <td>NaN</td>\n",
       "      <td>34.0459</td>\n",
       "      <td>-118.2545</td>\n",
       "    </tr>\n",
       "    <tr>\n",
       "      <th>2</th>\n",
       "      <td>200110444</td>\n",
       "      <td>4/14/2020 0:00</td>\n",
       "      <td>2/13/2020 0:00</td>\n",
       "      <td>1200</td>\n",
       "      <td>1</td>\n",
       "      <td>Central</td>\n",
       "      <td>155</td>\n",
       "      <td>2</td>\n",
       "      <td>845</td>\n",
       "      <td>SEX OFFENDER REGISTRANT OUT OF COMPLIANCE</td>\n",
       "      <td>...</td>\n",
       "      <td>AA</td>\n",
       "      <td>Adult Arrest</td>\n",
       "      <td>845.0</td>\n",
       "      <td>NaN</td>\n",
       "      <td>NaN</td>\n",
       "      <td>NaN</td>\n",
       "      <td>200 E  6TH                          ST</td>\n",
       "      <td>NaN</td>\n",
       "      <td>34.0448</td>\n",
       "      <td>-118.2474</td>\n",
       "    </tr>\n",
       "    <tr>\n",
       "      <th>3</th>\n",
       "      <td>191501505</td>\n",
       "      <td>1/1/2020 0:00</td>\n",
       "      <td>1/1/2020 0:00</td>\n",
       "      <td>1730</td>\n",
       "      <td>15</td>\n",
       "      <td>N Hollywood</td>\n",
       "      <td>1543</td>\n",
       "      <td>2</td>\n",
       "      <td>745</td>\n",
       "      <td>VANDALISM - MISDEAMEANOR ($399 OR UNDER)</td>\n",
       "      <td>...</td>\n",
       "      <td>IC</td>\n",
       "      <td>Invest Cont</td>\n",
       "      <td>745.0</td>\n",
       "      <td>998.0</td>\n",
       "      <td>NaN</td>\n",
       "      <td>NaN</td>\n",
       "      <td>5400    CORTEEN                      PL</td>\n",
       "      <td>NaN</td>\n",
       "      <td>34.1685</td>\n",
       "      <td>-118.4019</td>\n",
       "    </tr>\n",
       "    <tr>\n",
       "      <th>4</th>\n",
       "      <td>191921269</td>\n",
       "      <td>1/1/2020 0:00</td>\n",
       "      <td>1/1/2020 0:00</td>\n",
       "      <td>415</td>\n",
       "      <td>19</td>\n",
       "      <td>Mission</td>\n",
       "      <td>1998</td>\n",
       "      <td>2</td>\n",
       "      <td>740</td>\n",
       "      <td>VANDALISM - FELONY ($400 &amp; OVER, ALL CHURCH VA...</td>\n",
       "      <td>...</td>\n",
       "      <td>IC</td>\n",
       "      <td>Invest Cont</td>\n",
       "      <td>740.0</td>\n",
       "      <td>NaN</td>\n",
       "      <td>NaN</td>\n",
       "      <td>NaN</td>\n",
       "      <td>14400    TITUS                        ST</td>\n",
       "      <td>NaN</td>\n",
       "      <td>34.2198</td>\n",
       "      <td>-118.4468</td>\n",
       "    </tr>\n",
       "  </tbody>\n",
       "</table>\n",
       "<p>5 rows × 28 columns</p>\n",
       "</div>"
      ],
      "text/plain": [
       "       DR_NO       Date Rptd        DATE OCC  TIME OCC  AREA    AREA NAME  \\\n",
       "0   10304468   1/8/2020 0:00   1/8/2020 0:00      2230     3    Southwest   \n",
       "1  190101086   1/2/2020 0:00   1/1/2020 0:00       330     1      Central   \n",
       "2  200110444  4/14/2020 0:00  2/13/2020 0:00      1200     1      Central   \n",
       "3  191501505   1/1/2020 0:00   1/1/2020 0:00      1730    15  N Hollywood   \n",
       "4  191921269   1/1/2020 0:00   1/1/2020 0:00       415    19      Mission   \n",
       "\n",
       "   Rpt Dist No  Part 1-2  Crm Cd  \\\n",
       "0          377         2     624   \n",
       "1          163         2     624   \n",
       "2          155         2     845   \n",
       "3         1543         2     745   \n",
       "4         1998         2     740   \n",
       "\n",
       "                                         Crm Cd Desc  ... Status  \\\n",
       "0                           BATTERY - SIMPLE ASSAULT  ...     AO   \n",
       "1                           BATTERY - SIMPLE ASSAULT  ...     IC   \n",
       "2          SEX OFFENDER REGISTRANT OUT OF COMPLIANCE  ...     AA   \n",
       "3           VANDALISM - MISDEAMEANOR ($399 OR UNDER)  ...     IC   \n",
       "4  VANDALISM - FELONY ($400 & OVER, ALL CHURCH VA...  ...     IC   \n",
       "\n",
       "    Status Desc Crm Cd 1 Crm Cd 2  Crm Cd 3 Crm Cd 4  \\\n",
       "0   Adult Other    624.0      NaN       NaN      NaN   \n",
       "1   Invest Cont    624.0      NaN       NaN      NaN   \n",
       "2  Adult Arrest    845.0      NaN       NaN      NaN   \n",
       "3   Invest Cont    745.0    998.0       NaN      NaN   \n",
       "4   Invest Cont    740.0      NaN       NaN      NaN   \n",
       "\n",
       "                                   LOCATION Cross Street      LAT       LON  \n",
       "0   1100 W  39TH                         PL          NaN  34.0141 -118.2978  \n",
       "1    700 S  HILL                         ST          NaN  34.0459 -118.2545  \n",
       "2    200 E  6TH                          ST          NaN  34.0448 -118.2474  \n",
       "3   5400    CORTEEN                      PL          NaN  34.1685 -118.4019  \n",
       "4  14400    TITUS                        ST          NaN  34.2198 -118.4468  \n",
       "\n",
       "[5 rows x 28 columns]"
      ]
     },
     "execution_count": 5,
     "metadata": {},
     "output_type": "execute_result"
    }
   ],
   "source": [
    "#  head () method is used to return top 5 rows(default) of a data frame\n",
    "df.head()"
   ]
  },
  {
   "cell_type": "code",
   "execution_count": 6,
   "metadata": {},
   "outputs": [
    {
     "name": "stdout",
     "output_type": "stream",
     "text": [
      "Requirement already up-to-date: seaborn in c:\\users\\divya\\appdata\\roaming\\python\\python37\\site-packages (0.12.1)\n",
      "Requirement already satisfied, skipping upgrade: typing_extensions; python_version < \"3.8\" in c:\\users\\divya\\anaconda3\\lib\\site-packages (from seaborn) (4.4.0)\n",
      "Requirement already satisfied, skipping upgrade: matplotlib!=3.6.1,>=3.1 in c:\\users\\divya\\anaconda3\\lib\\site-packages (from seaborn) (3.1.0)\n",
      "Requirement already satisfied, skipping upgrade: pandas>=0.25 in c:\\users\\divya\\anaconda3\\lib\\site-packages (from seaborn) (1.3.5)\n",
      "Requirement already satisfied, skipping upgrade: numpy>=1.17 in c:\\users\\divya\\anaconda3\\lib\\site-packages (from seaborn) (1.21.6)\n",
      "Requirement already satisfied, skipping upgrade: cycler>=0.10 in c:\\users\\divya\\anaconda3\\lib\\site-packages (from matplotlib!=3.6.1,>=3.1->seaborn) (0.10.0)\n",
      "Requirement already satisfied, skipping upgrade: kiwisolver>=1.0.1 in c:\\users\\divya\\anaconda3\\lib\\site-packages (from matplotlib!=3.6.1,>=3.1->seaborn) (1.1.0)\n",
      "Requirement already satisfied, skipping upgrade: pyparsing!=2.0.4,!=2.1.2,!=2.1.6,>=2.0.1 in c:\\users\\divya\\anaconda3\\lib\\site-packages (from matplotlib!=3.6.1,>=3.1->seaborn) (2.4.0)\n",
      "Requirement already satisfied, skipping upgrade: python-dateutil>=2.1 in c:\\users\\divya\\anaconda3\\lib\\site-packages (from matplotlib!=3.6.1,>=3.1->seaborn) (2.8.0)\n",
      "Requirement already satisfied, skipping upgrade: pytz>=2017.3 in c:\\users\\divya\\anaconda3\\lib\\site-packages (from pandas>=0.25->seaborn) (2019.1)\n",
      "Requirement already satisfied, skipping upgrade: six in c:\\users\\divya\\anaconda3\\lib\\site-packages (from cycler>=0.10->matplotlib!=3.6.1,>=3.1->seaborn) (1.12.0)\n",
      "Requirement already satisfied, skipping upgrade: setuptools in c:\\users\\divya\\anaconda3\\lib\\site-packages (from kiwisolver>=1.0.1->matplotlib!=3.6.1,>=3.1->seaborn) (41.0.1)\n"
     ]
    }
   ],
   "source": [
    "# updating exsisting \n",
    "!pip install seaborn --upgrade --user"
   ]
  },
  {
   "cell_type": "code",
   "execution_count": 7,
   "metadata": {},
   "outputs": [
    {
     "name": "stdout",
     "output_type": "stream",
     "text": [
      "Requirement already up-to-date: pandas in c:\\users\\divya\\anaconda3\\lib\\site-packages (1.3.5)\n",
      "Requirement already satisfied, skipping upgrade: numpy>=1.17.3; platform_machine != \"aarch64\" and platform_machine != \"arm64\" and python_version < \"3.10\" in c:\\users\\divya\\anaconda3\\lib\\site-packages (from pandas) (1.21.6)\n",
      "Requirement already satisfied, skipping upgrade: pytz>=2017.3 in c:\\users\\divya\\anaconda3\\lib\\site-packages (from pandas) (2019.1)\n",
      "Requirement already satisfied, skipping upgrade: python-dateutil>=2.7.3 in c:\\users\\divya\\anaconda3\\lib\\site-packages (from pandas) (2.8.0)\n",
      "Requirement already satisfied, skipping upgrade: six>=1.5 in c:\\users\\divya\\anaconda3\\lib\\site-packages (from python-dateutil>=2.7.3->pandas) (1.12.0)\n"
     ]
    }
   ],
   "source": [
    "# updating\n",
    "!pip install pandas --upgrade --user"
   ]
  },
  {
   "cell_type": "code",
   "execution_count": 8,
   "metadata": {},
   "outputs": [
    {
     "data": {
      "text/plain": [
       "'0.12.1'"
      ]
     },
     "execution_count": 8,
     "metadata": {},
     "output_type": "execute_result"
    }
   ],
   "source": [
    "import seaborn as sns\n",
    "sns.__version__"
   ]
  },
  {
   "cell_type": "code",
   "execution_count": 9,
   "metadata": {},
   "outputs": [
    {
     "data": {
      "text/plain": [
       "Index(['DR_NO', 'Date Rptd', 'DATE OCC', 'TIME OCC', 'AREA', 'AREA NAME',\n",
       "       'Rpt Dist No', 'Part 1-2', 'Crm Cd', 'Crm Cd Desc', 'Mocodes',\n",
       "       'Vict Age', 'Vict Sex', 'Vict Descent', 'Premis Cd', 'Premis Desc',\n",
       "       'Weapon Used Cd', 'Weapon Desc', 'Status', 'Status Desc', 'Crm Cd 1',\n",
       "       'Crm Cd 2', 'Crm Cd 3', 'Crm Cd 4', 'LOCATION', 'Cross Street', 'LAT',\n",
       "       'LON'],\n",
       "      dtype='object')"
      ]
     },
     "execution_count": 9,
     "metadata": {},
     "output_type": "execute_result"
    }
   ],
   "source": [
    "# reading the columns name\n",
    "df.columns"
   ]
  },
  {
   "cell_type": "code",
   "execution_count": 116,
   "metadata": {},
   "outputs": [],
   "source": [
    "# select numerical columns\n",
    "df_num = df.select_dtypes(include=[np.number])\n",
    "numeric_cols = df_num.columns.values\n",
    "# select non-numeric columns\n",
    "df_non_num = df.select_dtypes(exclude=[np.number])\n",
    "non_num_cols = df_non_num.columns.values"
   ]
  },
  {
   "cell_type": "code",
   "execution_count": 117,
   "metadata": {},
   "outputs": [],
   "source": [
    "#calculating the percentage of values missing in each column, and then storing this information in a DataFrame\n",
    "# % of values missing in each column\n",
    "values_list = list()\n",
    "cols_list = list()\n",
    "for col in df.columns:\n",
    "    pct_missing = np.mean(df[col].isnull())*100\n",
    "    cols_list.append(col)\n",
    "    values_list.append(pct_missing)\n",
    "pct_missing_df = pd.DataFrame()\n",
    "pct_missing_df['col'] = cols_list\n",
    "pct_missing_df['pct_missing'] = values_list\n"
   ]
  },
  {
   "cell_type": "code",
   "execution_count": 118,
   "metadata": {},
   "outputs": [
    {
     "data": {
      "image/png": "[encoded data removed]",
      "text/plain": [
       "<Figure size 864x576 with 1 Axes>"
      ]
     },
     "metadata": {
      "needs_background": "light"
     },
     "output_type": "display_data"
    }
   ],
   "source": [
    "pct_missing_df.loc[pct_missing_df.pct_missing > 0].plot(kind='bar', figsize=(12,8))\n",
    "plt.show()"
   ]
  },
  {
   "cell_type": "markdown",
   "metadata": {},
   "source": [
    " ***DATA CLEANING***"
   ]
  },
  {
   "cell_type": "markdown",
   "metadata": {},
   "source": [
    "dropping of columns that have more than 70% of null values and also columns that are not required for analysis"
   ]
  },
  {
   "cell_type": "code",
   "execution_count": 10,
   "metadata": {},
   "outputs": [],
   "source": [
    "df.drop('Crm Cd 2', axis=1, inplace=True)"
   ]
  },
  {
   "cell_type": "code",
   "execution_count": 11,
   "metadata": {},
   "outputs": [],
   "source": [
    "df.drop('Crm Cd 3', axis=1, inplace=True)"
   ]
  },
  {
   "cell_type": "code",
   "execution_count": 12,
   "metadata": {},
   "outputs": [],
   "source": [
    "df.drop('Crm Cd 4', axis=1, inplace=True)"
   ]
  },
  {
   "cell_type": "code",
   "execution_count": 13,
   "metadata": {},
   "outputs": [],
   "source": [
    "df.drop('Cross Street', axis=1, inplace=True)"
   ]
  },
  {
   "cell_type": "code",
   "execution_count": 15,
   "metadata": {},
   "outputs": [],
   "source": [
    "df.drop('Mocodes', axis=1, inplace=True)"
   ]
  },
  {
   "cell_type": "code",
   "execution_count": 68,
   "metadata": {},
   "outputs": [
    {
     "name": "stdout",
     "output_type": "stream",
     "text": [
      "DR_NO             0\n",
      "Date Rptd         0\n",
      "DATE OCC          0\n",
      "TIME OCC          0\n",
      "AREA              0\n",
      "AREA NAME         0\n",
      "Rpt Dist No       0\n",
      "Part 1-2          0\n",
      "Crm Cd            0\n",
      "Crm Cd Desc       0\n",
      "Vict Age          0\n",
      "Vict Sex          0\n",
      "Vict Descent      0\n",
      "Premis Cd         0\n",
      "Premis Desc       0\n",
      "Weapon Used Cd    0\n",
      "Weapon Desc       0\n",
      "Status            0\n",
      "Status Desc       0\n",
      "Crm Cd 1          0\n",
      "LOCATION          0\n",
      "LAT               0\n",
      "LON               0\n",
      "dtype: int64\n"
     ]
    }
   ],
   "source": [
    "# Checking if there are any null values\n",
    "print(df.isnull().sum())"
   ]
  },
  {
   "cell_type": "code",
   "execution_count": 71,
   "metadata": {},
   "outputs": [
    {
     "data": {
      "image/png": "[encoded data removed]",
      "text/plain": [
       "<Figure size 1728x1152 with 1 Axes>"
      ]
     },
     "metadata": {
      "needs_background": "light"
     },
     "output_type": "display_data"
    }
   ],
   "source": [
    "# Areas that are more vulnerable for a particular gender in the Los Angeles neighbourhood \n",
    "\n",
    "fig,ax = plt.subplots(figsize=(24,16))\n",
    "sns.countplot(x='AREA NAME',hue='Vict Sex',data=df,palette='bright',alpha=0.75)\n",
    "ax.set_title('Based on Victims sex, crimes happening around the Los Angeles neighbourhood (2020-2022)')\n",
    "ax.set_xlabel('AREA NAME', fontsize=15);"
   ]
  },
  {
   "cell_type": "code",
   "execution_count": 31,
   "metadata": {},
   "outputs": [
    {
     "data": {
      "image/png": "[encoded data removed]",
      "text/plain": [
       "<Figure size 864x576 with 1 Axes>"
      ]
     },
     "metadata": {
      "needs_background": "light"
     },
     "output_type": "display_data"
    }
   ],
   "source": [
    "# Number of crimes that occured based on the Area in the neighbourhood of Los Angeles\n",
    "# Visualizing through bar graph\n",
    "fig,ax = plt.subplots(figsize=(12,8))\n",
    "sns.countplot(y='AREA NAME',data= df,palette='bright',alpha=0.75)\n",
    "ax.set_title('Crime Data from 2020-Nov 2022 by Area');\n",
    "\n",
    "\n",
    "#Crime Data from (2020-Nov 2022) by Area"
   ]
  },
  {
   "cell_type": "code",
   "execution_count": 32,
   "metadata": {},
   "outputs": [
    {
     "data": {
      "text/plain": [
       "77th Street    18892\n",
       "Central        16038\n",
       "Southeast      15197\n",
       "Southwest      13260\n",
       "Hollywood      13002\n",
       "Newton         12266\n",
       "Rampart        11750\n",
       "Olympic        11082\n",
       "Pacific         9699\n",
       "Harbor          8893\n",
       "Hollenbeck      8268\n",
       "N Hollywood     8258\n",
       "Mission         7868\n",
       "Wilshire        7804\n",
       "West Valley     7558\n",
       "Northeast       7251\n",
       "Van Nuys        7096\n",
       "Topanga         6867\n",
       "Foothill        6798\n",
       "West LA         6586\n",
       "Devonshire      6392\n",
       "Name: AREA NAME, dtype: int64"
      ]
     },
     "execution_count": 32,
     "metadata": {},
     "output_type": "execute_result"
    }
   ],
   "source": [
    "df['AREA NAME'].value_counts() # Checks out"
   ]
  },
  {
   "cell_type": "code",
   "execution_count": 69,
   "metadata": {},
   "outputs": [
    {
     "name": "stdout",
     "output_type": "stream",
     "text": [
      "Counter({'M': 102412, 'F': 96437, 'X': 11955, 'H': 21})\n"
     ]
    }
   ],
   "source": [
    "# Using Counter method from Collection module to\n",
    "\n",
    "from collections import Counter\n",
    "print(Counter(df['Vict Sex']))"
   ]
  },
  {
   "cell_type": "code",
   "execution_count": 70,
   "metadata": {},
   "outputs": [
    {
     "data": {
      "image/png": "[encoded data removed]",
      "text/plain": [
       "<Figure size 432x288 with 1 Axes>"
      ]
     },
     "metadata": {},
     "output_type": "display_data"
    },
    {
     "name": "stdout",
     "output_type": "stream",
     "text": [
      "M    102412\n",
      "F     96437\n",
      "X     11955\n",
      "H        21\n",
      "Name: Vict Sex, dtype: int64\n"
     ]
    }
   ],
   "source": [
    "# Visualizing through Pie chart for Victims based on Victims sex\n",
    "\n",
    "values = df['Vict Sex'].value_counts()\n",
    "lbls = df['Vict Sex'].unique().tolist()\n",
    "\n",
    "plt.pie(values, labels= lbls, radius = 2)\n",
    "plt.show()\n",
    "print(values)"
   ]
  },
  {
   "cell_type": "code",
   "execution_count": 107,
   "metadata": {},
   "outputs": [
    {
     "data": {
      "text/plain": [
       "(array([146639.,  16753., 102768., 121608.,  82755.,  64004.,  39526.,\n",
       "         15303.,   4467.,    945.,    208.,      0.]),\n",
       " array([ -1,   9,  19,  29,  39,  49,  59,  69,  79,  89,  99, 109, 119]),\n",
       " <a list of 12 Patch objects>)"
      ]
     },
     "execution_count": 107,
     "metadata": {},
     "output_type": "execute_result"
    },
    {
     "data": {
      "image/png": "[encoded data removed]",
      "text/plain": [
       "<Figure size 432x288 with 1 Axes>"
      ]
     },
     "metadata": {
      "needs_background": "light"
     },
     "output_type": "display_data"
    }
   ],
   "source": [
    "# Visualizing through histogram of Victim age\n",
    "\n",
    "victim_age = np.arange(df['Vict Age'].min(), df['Vict Age'].max(), 10)\n",
    "plt.hist(df['Vict Age'].dropna(), bins=victim_age, alpha=1, edgecolor='black')"
   ]
  },
  {
   "cell_type": "code",
   "execution_count": 57,
   "metadata": {},
   "outputs": [
    {
     "data": {
      "text/plain": [
       "Crm Cd Desc\n",
       "FIREARMS EMERGENCY PROTECTIVE ORDER (FIREARMS EPO)        1\n",
       "INCEST (SEXUAL ACTS BETWEEN BLOOD RELATIVES)              1\n",
       "EMBEZZLEMENT, PETTY THEFT ($950 & UNDER)                  1\n",
       "DRIVING WITHOUT OWNER CONSENT (DWOC)                      1\n",
       "TILL TAP - PETTY ($950 & UNDER)                           1\n",
       "                                                      ...  \n",
       "CRIMINAL THREATS - NO WEAPON DISPLAYED                12365\n",
       "ROBBERY                                               20943\n",
       "INTIMATE PARTNER - SIMPLE ASSAULT                     30681\n",
       "ASSAULT WITH DEADLY WEAPON, AGGRAVATED ASSAULT        35200\n",
       "BATTERY - SIMPLE ASSAULT                              47530\n",
       "Name: Crm Cd Desc, Length: 115, dtype: int64"
      ]
     },
     "execution_count": 57,
     "metadata": {},
     "output_type": "execute_result"
    }
   ],
   "source": [
    "# Types of Crimes that occured in number\n",
    "\n",
    "df.groupby(\"Crm Cd Desc\")[\"Crm Cd Desc\"].count().sort_values()"
   ]
  },
  {
   "cell_type": "code",
   "execution_count": 58,
   "metadata": {},
   "outputs": [
    {
     "data": {
      "text/plain": [
       "DATE OCC\n",
       "10/31/2022 0:00     34\n",
       "4/9/2020 0:00      123\n",
       "1/26/2021 0:00     126\n",
       "12/14/2021 0:00    132\n",
       "12/28/2020 0:00    135\n",
       "                  ... \n",
       "7/4/2020 0:00      295\n",
       "1/1/2021 0:00      318\n",
       "7/4/2021 0:00      326\n",
       "5/30/2020 0:00     337\n",
       "1/1/2020 0:00      454\n",
       "Name: DATE OCC, Length: 1035, dtype: int64"
      ]
     },
     "execution_count": 58,
     "metadata": {},
     "output_type": "execute_result"
    }
   ],
   "source": [
    "#Crimes that occured on a given date\n",
    "\n",
    "df.groupby(\"DATE OCC\")[\"DATE OCC\"].count().sort_values()"
   ]
  },
  {
   "cell_type": "code",
   "execution_count": 110,
   "metadata": {},
   "outputs": [
    {
     "name": "stdout",
     "output_type": "stream",
     "text": [
      "VEHICLE - STOLEN                                           65133\n",
      "BATTERY - SIMPLE ASSAULT                                   47565\n",
      "BURGLARY FROM VEHICLE                                      37675\n",
      "VANDALISM - FELONY ($400 & OVER, ALL CHURCH VANDALISMS)    37578\n",
      "BURGLARY                                                   36286\n",
      "ASSAULT WITH DEADLY WEAPON, AGGRAVATED ASSAULT             35225\n",
      "THEFT OF IDENTITY                                          34889\n",
      "INTIMATE PARTNER - SIMPLE ASSAULT                          30769\n",
      "THEFT PLAIN - PETTY ($950 & UNDER)                         30733\n",
      "THEFT FROM MOTOR VEHICLE - PETTY ($950 & UNDER)            24259\n",
      "Name: Crm Cd Desc, dtype: int64\n"
     ]
    }
   ],
   "source": [
    "# Top 10 crimes that happened in the neighbourhood of Loc Angeles\n",
    "\n",
    "df3=df['Crm Cd Desc'].value_counts()[:10]\n",
    "print(df3)"
   ]
  }
 ],
 "metadata": {
  "kernelspec": {
   "display_name": "Python 3",
   "language": "python",
   "name": "python3"
  },
  "language_info": {
   "codemirror_mode": {
    "name": "ipython",
    "version": 3
   },
   "file_extension": ".py",
   "mimetype": "text/x-python",
   "name": "python",
   "nbconvert_exporter": "python",
   "pygments_lexer": "ipython3",
   "version": "3.7.3"
  }
 },
 "nbformat": 4,
 "nbformat_minor": 2
}
